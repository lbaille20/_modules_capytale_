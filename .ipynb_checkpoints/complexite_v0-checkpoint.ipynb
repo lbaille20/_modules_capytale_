{
 "cells": [
  {
   "cell_type": "markdown",
   "metadata": {},
   "source": [
    "### Mesure de complexité"
   ]
  },
  {
   "cell_type": "markdown",
   "metadata": {},
   "source": [
    "* mesures de base :"
   ]
  },
  {
   "cell_type": "code",
   "execution_count": null,
   "metadata": {},
   "outputs": [],
   "source": [
    "type(2) != tuple, type((2, )) != tuple"
   ]
  },
  {
   "cell_type": "code",
   "execution_count": null,
   "metadata": {},
   "outputs": [],
   "source": [
    "a,  = (2, ); a"
   ]
  },
  {
   "cell_type": "code",
   "execution_count": null,
   "metadata": {},
   "outputs": [],
   "source": [
    "def mesure_time(f, params, init = lambda x: x):\n",
    "    if type(params) != tuple: params = (params, )\n",
    "    from time import time\n",
    "    params = init(params)\n",
    "    t = time()\n",
    "    f(*params)\n",
    "    t = time() - t\n",
    "    return t"
   ]
  },
  {
   "cell_type": "code",
   "execution_count": null,
   "metadata": {},
   "outputs": [],
   "source": [
    "f = lambda x : x + 1\n",
    "mesure_time(f, 2)"
   ]
  },
  {
   "cell_type": "code",
   "execution_count": null,
   "metadata": {},
   "outputs": [],
   "source": [
    "def mesure_perf(f, params, init = lambda x: x):\n",
    "    if type(params) != tuple: params = (params, )\n",
    "    from time import perf_counter\n",
    "    params = init(params)\n",
    "    t = perf_counter()\n",
    "    f(*params)\n",
    "    t = perf_counter() - t\n",
    "    return t"
   ]
  },
  {
   "cell_type": "code",
   "execution_count": null,
   "metadata": {},
   "outputs": [],
   "source": [
    "f = lambda L: L.append(0)\n",
    "mesure_perf(f, [])"
   ]
  },
  {
   "cell_type": "code",
   "execution_count": null,
   "metadata": {},
   "outputs": [],
   "source": [
    "fmap = lambda L, f: [f(x) for x in L]\n",
    "mesure_perf(fmap, ([1, 2, 3], lambda x: x**2) )"
   ]
  },
  {
   "cell_type": "markdown",
   "metadata": {},
   "source": [
    "* mesures répétées"
   ]
  },
  {
   "cell_type": "code",
   "execution_count": null,
   "metadata": {},
   "outputs": [],
   "source": [
    "def iter_perf(f, Lparams, nbsim, init = lambda x: x):\n",
    "    if type(Lparams[0]) != tuple: Lparams = [(p, ) for p in Lparams]\n",
    "    return [min(mesure_perf(f, params, init) for _ in range(nbsim)) for params in Lparams]"
   ]
  },
  {
   "cell_type": "code",
   "execution_count": null,
   "metadata": {},
   "outputs": [],
   "source": [
    "f = 0"
   ]
  },
  {
   "cell_type": "code",
   "execution_count": null,
   "metadata": {},
   "outputs": [],
   "source": [
    "def random_perf(f, Lparams, nbsim, init = lambda x: x):\n",
    "    if type(Lparams[0]) != tuple: Lparams = [(p, ) for p in Lparams]\n",
    "    from random import shuffle\n",
    "    Dperf = {k: float('inf') for k in range(len(Lparams))}\n",
    "    randomtests = nbsim * list(range(len(Lparams))); shuffle(randomtests)\n",
    "    for k in randomtests:\n",
    "        Dperf[k] = min(Dperf[k], mesure_perf(f, Lparams[k], init))\n",
    "    return [Dperf[k] for k in range(len(Lparams))]"
   ]
  },
  {
   "cell_type": "code",
   "execution_count": null,
   "metadata": {},
   "outputs": [],
   "source": [
    "def random_perf_comp(Lfonctions, Lparams, nbsim, init = lambda x: x):\n",
    "    if type(Lparams[0]) != tuple: Lparams = [(p, ) for p in Lparams]\n",
    "    from random import shuffle\n",
    "    random_tests = [\\\n",
    "        (i_f, j_params) for i_f in range(len(Lfonctions)) for j_params in range(len(Lparams))] * nbsim\n",
    "    shuffle(random_tests)\n",
    "    Dperf = {i_f: [float('inf') for j_params in range(len(Lparams))] for i_f in range(len(Lfonctions)) }\n",
    "    for i_f, j_params in random_tests:\n",
    "        Dperf[i_f][j_params] = \\\n",
    "            min(Dperf[i_f][j_params], mesure_perf(Lfonctions[i_f], Lparams[j_params], init))\n",
    "    return (Dperf[k] for k in range(len(Lfonctions)))"
   ]
  },
  {
   "cell_type": "code",
   "execution_count": null,
   "metadata": {},
   "outputs": [],
   "source": [
    "f1 = lambda L : L.append(0)\n",
    "f2 = lambda L : L + [0]\n",
    "\n",
    "def finit(params):\n",
    "    n, = params\n",
    "    return (n * [0], )\n",
    "\n",
    "liste_n = [k for k in range(0, 100001, 1000)]\n",
    "liste_t1, liste_t2 = random_perf_comp((f1, f2), liste_n, nbsim = 50, init = finit)\n",
    "\n",
    "%matplotlib inline\n",
    "import matplotlib.pyplot as plt\n",
    "\n",
    "plt.plot(liste_n, liste_t1, 'r-', label = \"L.append(0)\")\n",
    "plt.plot(liste_n, liste_t2, 'g-', label = \"L + [0]\")\n",
    "plt.legend()\n",
    "plt.show()"
   ]
  },
  {
   "cell_type": "code",
   "execution_count": null,
   "metadata": {},
   "outputs": [],
   "source": [
    "liste_n = [k for k in range(0, 1000001, 1000)]\n",
    "liste_t1 = iter_perf(f1, liste_n, nbsim = 100, init = finit)\n",
    "plt.plot(liste_n, liste_t1, 'r-', label = \"L.append(0)\")\n",
    "\n",
    "plt.legend()\n",
    "plt.show()"
   ]
  },
  {
   "cell_type": "code",
   "execution_count": null,
   "metadata": {},
   "outputs": [],
   "source": [
    "liste_n = [k for k in range(0, 1000001, 1000)]\n",
    "liste_t1 = random_perf(f1, liste_n, nbsim = 100, init = finit)\n",
    "plt.plot(liste_n, liste_t1, 'r-', label = \"L.append(0)\")\n",
    "\n",
    "plt.legend()\n",
    "plt.show()"
   ]
  },
  {
   "cell_type": "code",
   "execution_count": null,
   "metadata": {},
   "outputs": [],
   "source": []
  }
 ],
 "metadata": {
  "kernelspec": {
   "display_name": "Python 3",
   "language": "python",
   "name": "python3"
  },
  "language_info": {
   "codemirror_mode": {
    "name": "ipython",
    "version": 3
   },
   "file_extension": ".py",
   "mimetype": "text/x-python",
   "name": "python",
   "nbconvert_exporter": "python",
   "pygments_lexer": "ipython3",
   "version": "3.7.1"
  },
  "latex_envs": {
   "LaTeX_envs_menu_present": true,
   "autoclose": false,
   "autocomplete": true,
   "bibliofile": "biblio.bib",
   "cite_by": "apalike",
   "current_citInitial": 1,
   "eqLabelWithNumbers": true,
   "eqNumInitial": 1,
   "hotkeys": {
    "equation": "Ctrl-E",
    "itemize": "Ctrl-I"
   },
   "labels_anchors": false,
   "latex_user_defs": false,
   "report_style_numbering": false,
   "user_envs_cfg": false
  }
 },
 "nbformat": 4,
 "nbformat_minor": 4
}
