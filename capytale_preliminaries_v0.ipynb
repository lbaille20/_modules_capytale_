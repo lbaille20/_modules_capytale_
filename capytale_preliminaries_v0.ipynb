{
 "cells": [
  {
   "cell_type": "markdown",
   "metadata": {},
   "source": [
    "### Fonctions de création/vérification de  répertoires"
   ]
  },
  {
   "cell_type": "code",
   "execution_count": 1,
   "metadata": {},
   "outputs": [],
   "source": [
    "import os\n",
    "\n",
    "def ensure_path_validity(path_to_dst):\n",
    "    head, tail = os.path.split(path_to_dst)\n",
    "    #print('head =', head, 'tail =', tail)\n",
    "    if head != '' and not os.path.exists(head):\n",
    "        #print(head, head == '')\n",
    "        ensure_path_validity(head)\n",
    "    if head == '':\n",
    "        head = '.'\n",
    "    if tail != '' and tail not in os.listdir(head) or not os.path.isdir(path_to_dst):\n",
    "        os.mkdir(path_to_dst)"
   ]
  },
  {
   "cell_type": "markdown",
   "metadata": {},
   "source": [
    "* création des répertoires par défaut"
   ]
  },
  {
   "cell_type": "code",
   "execution_count": 2,
   "metadata": {},
   "outputs": [],
   "source": [
    "ensure_path_validity(\"telechargements\") ## warning case unsensitive => use NO capital letters, NO accents\n",
    "ensure_path_validity(\"modules\")\n",
    "ensure_path_validity(\"capytale/modules\")"
   ]
  },
  {
   "cell_type": "code",
   "execution_count": 3,
   "metadata": {},
   "outputs": [],
   "source": [
    "def download_file_as_is(src_url, dst_dir, filename):\n",
    "    from urllib.request import urlopen\n",
    "    f = urlopen(src_url)\n",
    "    if dst_dir != '.':\n",
    "        ensure_path_validity(dst_dir)\n",
    "    with open(os.path.join(dst_dir, filename), 'wb') as f1:\n",
    "        f1.write(f.read())"
   ]
  },
  {
   "cell_type": "markdown",
   "metadata": {},
   "source": [
    "* téléchargements des modules capytale"
   ]
  },
  {
   "cell_type": "code",
   "execution_count": 7,
   "metadata": {},
   "outputs": [],
   "source": [
    "distant_directory_url = \"https://raw.githubusercontent.com/lbaille20/_modules_capytale_/main\"\n",
    "\n",
    "repertoire_modules = \"modules_test\"\n",
    "\n",
    "fichiers_a_telecharger = [\"capytale_misc\",\n",
    "                          \"complexite\"]"
   ]
  },
  {
   "cell_type": "code",
   "execution_count": 8,
   "metadata": {},
   "outputs": [],
   "source": [
    "dst_dir = 'capytale/modules'"
   ]
  },
  {
   "cell_type": "code",
   "execution_count": 9,
   "metadata": {},
   "outputs": [],
   "source": [
    "for file in fichiers_a_telecharger:\n",
    "    filename = file + '.py'\n",
    "    src_url = '/'.join([distant_directory_url, repertoire_modules, filename])\n",
    "    try:\n",
    "        download_file_as_is(src_url, dst_dir, filename)\n",
    "    except:\n",
    "        print(f'Module \"{file}\" not found')"
   ]
  },
  {
   "cell_type": "markdown",
   "metadata": {},
   "source": [
    "* ajout du chemin vers les modules capytale"
   ]
  },
  {
   "cell_type": "code",
   "execution_count": null,
   "metadata": {},
   "outputs": [],
   "source": [
    "import sys\n",
    "sys.path.append('capytale/modules')"
   ]
  }
 ],
 "metadata": {
  "kernelspec": {
   "display_name": "Python 3",
   "language": "python",
   "name": "python3"
  },
  "language_info": {
   "codemirror_mode": {
    "name": "ipython",
    "version": 3
   },
   "file_extension": ".py",
   "mimetype": "text/x-python",
   "name": "python",
   "nbconvert_exporter": "python",
   "pygments_lexer": "ipython3",
   "version": "3.7.1"
  },
  "latex_envs": {
   "LaTeX_envs_menu_present": true,
   "autoclose": false,
   "autocomplete": true,
   "bibliofile": "biblio.bib",
   "cite_by": "apalike",
   "current_citInitial": 1,
   "eqLabelWithNumbers": true,
   "eqNumInitial": 1,
   "hotkeys": {
    "equation": "Ctrl-E",
    "itemize": "Ctrl-I"
   },
   "labels_anchors": false,
   "latex_user_defs": false,
   "report_style_numbering": false,
   "user_envs_cfg": false
  }
 },
 "nbformat": 4,
 "nbformat_minor": 4
}
