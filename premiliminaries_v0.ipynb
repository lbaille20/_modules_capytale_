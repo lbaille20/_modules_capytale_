{
 "cells": [
  {
   "cell_type": "markdown",
   "metadata": {},
   "source": [
    "### Mesure de complexité"
   ]
  },
  {
   "cell_type": "markdown",
   "metadata": {},
   "source": [
    "* mesures de base :"
   ]
  },
  {
   "cell_type": "code",
   "execution_count": 1,
   "metadata": {},
   "outputs": [
    {
     "data": {
      "text/plain": [
       "(True, False)"
      ]
     },
     "execution_count": 1,
     "metadata": {},
     "output_type": "execute_result"
    }
   ],
   "source": [
    "type(2) != tuple, type((2, )) != tuple"
   ]
  },
  {
   "cell_type": "code",
   "execution_count": 2,
   "metadata": {},
   "outputs": [
    {
     "data": {
      "text/plain": [
       "2"
      ]
     },
     "execution_count": 2,
     "metadata": {},
     "output_type": "execute_result"
    }
   ],
   "source": [
    "a,  = (2, ); a"
   ]
  },
  {
   "cell_type": "code",
   "execution_count": 3,
   "metadata": {},
   "outputs": [],
   "source": [
    "def mesure_time(f, params, init = lambda x: x):\n",
    "    if type(params) != tuple: params = (params, )\n",
    "    from time import time\n",
    "    params = init(params)\n",
    "    t = time()\n",
    "    f(*params)\n",
    "    t = time() - t\n",
    "    return t"
   ]
  },
  {
   "cell_type": "code",
   "execution_count": 4,
   "metadata": {},
   "outputs": [
    {
     "data": {
      "text/plain": [
       "0.0"
      ]
     },
     "execution_count": 4,
     "metadata": {},
     "output_type": "execute_result"
    }
   ],
   "source": [
    "f = lambda x : x + 1\n",
    "mesure_time(f, 2)"
   ]
  },
  {
   "cell_type": "code",
   "execution_count": 5,
   "metadata": {},
   "outputs": [],
   "source": [
    "def mesure_perf(f, params, init = lambda x: x):\n",
    "    if type(params) != tuple: params = (params, )\n",
    "    from time import perf_counter\n",
    "    params = init(params)\n",
    "    t = perf_counter()\n",
    "    f(*params)\n",
    "    t = perf_counter() - t\n",
    "    return t"
   ]
  },
  {
   "cell_type": "code",
   "execution_count": 6,
   "metadata": {},
   "outputs": [
    {
     "data": {
      "text/plain": [
       "7.000000001866624e-07"
      ]
     },
     "execution_count": 6,
     "metadata": {},
     "output_type": "execute_result"
    }
   ],
   "source": [
    "f = lambda L: L.append(0)\n",
    "mesure_perf(f, [])"
   ]
  },
  {
   "cell_type": "code",
   "execution_count": 7,
   "metadata": {},
   "outputs": [
    {
     "data": {
      "text/plain": [
       "3.700000000161907e-06"
      ]
     },
     "execution_count": 7,
     "metadata": {},
     "output_type": "execute_result"
    }
   ],
   "source": [
    "fmap = lambda L, f: [f(x) for x in L]\n",
    "mesure_perf(fmap, ([1, 2, 3], lambda x: x**2) )"
   ]
  },
  {
   "cell_type": "markdown",
   "metadata": {},
   "source": [
    "* mesures répétées"
   ]
  },
  {
   "cell_type": "code",
   "execution_count": 8,
   "metadata": {},
   "outputs": [],
   "source": [
    "def iter_perf(f, Lparams, nbsim, init = lambda x: x):\n",
    "    if type(Lparams[0]) != tuple: Lparams = [(p, ) for p in Lparams]\n",
    "    return [min(mesure_perf(f, params, init) for _ in range(nbsim)) for params in Lparams]"
   ]
  },
  {
   "cell_type": "code",
   "execution_count": 9,
   "metadata": {},
   "outputs": [],
   "source": [
    "f = 0"
   ]
  },
  {
   "cell_type": "code",
   "execution_count": 10,
   "metadata": {},
   "outputs": [],
   "source": [
    "def random_perf(f, Lparams, nbsim, init = lambda x: x):\n",
    "    if type(Lparams[0]) != tuple: Lparams = [(p, ) for p in Lparams]\n",
    "    from random import shuffle\n",
    "    Dperf = {k: float('inf') for k in range(len(Lparams))}\n",
    "    randomtests = nbsim * list(range(len(Lparams))); shuffle(randomtests)\n",
    "    for k in randomtests:\n",
    "        Dperf[k] = min(Dperf[k], mesure_perf(f, Lparams[k], init))\n",
    "    return [Dperf[k] for k in range(len(Lparams))]"
   ]
  },
  {
   "cell_type": "code",
   "execution_count": 11,
   "metadata": {},
   "outputs": [],
   "source": [
    "def random_perf_comp(Lfonctions, Lparams, nbsim, init = lambda x: x):\n",
    "    if type(Lparams[0]) != tuple: Lparams = [(p, ) for p in Lparams]\n",
    "    from random import shuffle\n",
    "    random_tests = [\\\n",
    "        (i_f, j_params) for i_f in range(len(Lfonctions)) for j_params in range(len(Lparams))] * nbsim\n",
    "    shuffle(random_tests)\n",
    "    Dperf = {i_f: [float('inf') for j_params in range(len(Lparams))] for i_f in range(len(Lfonctions)) }\n",
    "    for i_f, j_params in random_tests:\n",
    "        Dperf[i_f][j_params] = \\\n",
    "            min(Dperf[i_f][j_params], mesure_perf(Lfonctions[i_f], Lparams[j_params], init))\n",
    "    return (Dperf[k] for k in range(len(Lfonctions)))"
   ]
  },
  {
   "cell_type": "code",
   "execution_count": 20,
   "metadata": {},
   "outputs": [
    {
     "data": {
      "image/png": "[encoded data removed]",
      "text/plain": [
       "<Figure size 432x288 with 1 Axes>"
      ]
     },
     "metadata": {
      "needs_background": "light"
     },
     "output_type": "display_data"
    }
   ],
   "source": [
    "f1 = lambda L : L.append(0)\n",
    "f2 = lambda L : L + [0]\n",
    "\n",
    "def finit(params):\n",
    "    n, = params\n",
    "    return (n * [0], )\n",
    "\n",
    "liste_n = [k for k in range(0, 100001, 1000)]\n",
    "liste_t1, liste_t2 = random_perf_comp((f1, f2), liste_n, nbsim = 50, init = finit)\n",
    "\n",
    "%matplotlib inline\n",
    "import matplotlib.pyplot as plt\n",
    "\n",
    "plt.plot(liste_n, liste_t1, 'r-', label = \"L.append(0)\")\n",
    "plt.plot(liste_n, liste_t2, 'g-', label = \"L + [0]\")\n",
    "plt.legend()\n",
    "plt.show()"
   ]
  },
  {
   "cell_type": "code",
   "execution_count": null,
   "metadata": {},
   "outputs": [],
   "source": [
    "liste_n = [k for k in range(0, 100000, 1)]\n",
    "liste_t1 = iter_perf(f1, liste_n, nbsim = 10, init = finit)\n",
    "plt.plot(liste_n, liste_t1, 'r-', label = \"L.append(0)\")\n",
    "\n",
    "plt.legend()\n",
    "plt.show()"
   ]
  },
  {
   "cell_type": "code",
   "execution_count": null,
   "metadata": {},
   "outputs": [],
   "source": [
    "plt.plot(liste_n[:10000], liste_t1[:10000], 'r-', label = \"L.append(0)\")\n",
    "\n",
    "plt.legend()\n",
    "plt.show()"
   ]
  },
  {
   "cell_type": "code",
   "execution_count": 13,
   "metadata": {},
   "outputs": [
    {
     "data": {
      "image/png": "[encoded data removed]",
      "text/plain": [
       "<Figure size 432x288 with 1 Axes>"
      ]
     },
     "metadata": {
      "needs_background": "light"
     },
     "output_type": "display_data"
    }
   ],
   "source": [
    "liste_n = [k for k in range(0, 1000001, 1000)]\n",
    "liste_t1 = iter_perf(f1, liste_n, nbsim = 100, init = finit)\n",
    "plt.plot(liste_n, liste_t1, 'r-', label = \"L.append(0)\")\n",
    "\n",
    "plt.legend()\n",
    "plt.show()"
   ]
  },
  {
   "cell_type": "code",
   "execution_count": 14,
   "metadata": {},
   "outputs": [
    {
     "data": {
      "image/png": "[encoded data removed]",
      "text/plain": [
       "<Figure size 432x288 with 1 Axes>"
      ]
     },
     "metadata": {
      "needs_background": "light"
     },
     "output_type": "display_data"
    }
   ],
   "source": [
    "liste_n = [k for k in range(0, 1000001, 1000)]\n",
    "liste_t1 = random_perf(f1, liste_n, nbsim = 100, init = finit)\n",
    "plt.plot(liste_n, liste_t1, 'r-', label = \"L.append(0)\")\n",
    "\n",
    "plt.legend()\n",
    "plt.show()"
   ]
  },
  {
   "cell_type": "markdown",
   "metadata": {},
   "source": [
    "* Normalisation"
   ]
  },
  {
   "cell_type": "markdown",
   "metadata": {},
   "source": [
    "http://www.python-simple.com/python-numpy/random-numpy.php"
   ]
  },
  {
   "cell_type": "code",
   "execution_count": 15,
   "metadata": {},
   "outputs": [],
   "source": [
    "import numpy as np"
   ]
  },
  {
   "cell_type": "code",
   "execution_count": 16,
   "metadata": {},
   "outputs": [
    {
     "data": {
      "text/plain": [
       "((100,), (100,))"
      ]
     },
     "execution_count": 16,
     "metadata": {},
     "output_type": "execute_result"
    }
   ],
   "source": [
    "# complexité linéaire\n",
    "f = lambda t, n : t/n\n",
    "\n",
    "Ln = np.arange(1, 100)\n",
    "Lt = np.array([np.random.randint(0, 100) for n in Ln]) # 100 exclu\n",
    "Ln.shape, Lt.shape"
   ]
  },
  {
   "cell_type": "code",
   "execution_count": 17,
   "metadata": {},
   "outputs": [],
   "source": [
    "data = np.stack([Ln, Lt], axis = 0)"
   ]
  },
  {
   "cell_type": "code",
   "execution_count": 18,
   "metadata": {},
   "outputs": [
    {
     "data": {
      "text/plain": [
       "array([[ 0,  1,  2,  3,  4,  5,  6,  7,  8,  9, 10, 11, 12, 13, 14, 15,\n",
       "        16, 17, 18, 19, 20, 21, 22, 23, 24, 25, 26, 27, 28, 29, 30, 31,\n",
       "        32, 33, 34, 35, 36, 37, 38, 39, 40, 41, 42, 43, 44, 45, 46, 47,\n",
       "        48, 49, 50, 51, 52, 53, 54, 55, 56, 57, 58, 59, 60, 61, 62, 63,\n",
       "        64, 65, 66, 67, 68, 69, 70, 71, 72, 73, 74, 75, 76, 77, 78, 79,\n",
       "        80, 81, 82, 83, 84, 85, 86, 87, 88, 89, 90, 91, 92, 93, 94, 95,\n",
       "        96, 97, 98, 99],\n",
       "       [19, 42, 71, 31,  1, 91, 48, 95, 27, 14,  6, 77, 36, 61,  0, 52,\n",
       "        43, 30,  3, 77, 79, 26, 46, 63, 29,  1,  5, 32, 60, 13, 54, 45,\n",
       "        71, 62, 63, 25, 55,  0, 51, 90, 49, 84, 71, 90, 96, 30, 69, 78,\n",
       "        10,  5, 66, 22, 60, 68, 74, 72, 85, 61, 66, 91, 12, 90, 86, 62,\n",
       "         9, 34, 47, 37, 24, 48, 58, 10, 35, 18, 66, 47, 51, 81, 90, 50,\n",
       "        80, 28, 66, 63, 66, 65, 55, 99, 95, 57, 43, 84, 41, 37, 63, 55,\n",
       "        11, 41, 50, 43]])"
      ]
     },
     "execution_count": 18,
     "metadata": {},
     "output_type": "execute_result"
    }
   ],
   "source": [
    "data"
   ]
  },
  {
   "cell_type": "code",
   "execution_count": 19,
   "metadata": {},
   "outputs": [
    {
     "ename": "TypeError",
     "evalue": "<lambda>() missing 1 required positional argument: 'n'",
     "output_type": "error",
     "traceback": [
      "\u001b[1;31m---------------------------------------------------------------------------\u001b[0m",
      "\u001b[1;31mTypeError\u001b[0m                                 Traceback (most recent call last)",
      "\u001b[1;32m<ipython-input-19-2180645a85eb>\u001b[0m in \u001b[0;36m<module>\u001b[1;34m\u001b[0m\n\u001b[1;32m----> 1\u001b[1;33m \u001b[0mf\u001b[0m\u001b[1;33m(\u001b[0m\u001b[0mLt\u001b[0m\u001b[1;33m)\u001b[0m\u001b[1;33m\u001b[0m\u001b[1;33m\u001b[0m\u001b[0m\n\u001b[0m",
      "\u001b[1;31mTypeError\u001b[0m: <lambda>() missing 1 required positional argument: 'n'"
     ]
    }
   ],
   "source": [
    "f(data)"
   ]
  },
  {
   "cell_type": "code",
   "execution_count": null,
   "metadata": {},
   "outputs": [],
   "source": [
    "Ln"
   ]
  },
  {
   "cell_type": "code",
   "execution_count": null,
   "metadata": {},
   "outputs": [],
   "source": []
  }
 ],
 "metadata": {
  "kernelspec": {
   "display_name": "Python 3",
   "language": "python",
   "name": "python3"
  },
  "language_info": {
   "codemirror_mode": {
    "name": "ipython",
    "version": 3
   },
   "file_extension": ".py",
   "mimetype": "text/x-python",
   "name": "python",
   "nbconvert_exporter": "python",
   "pygments_lexer": "ipython3",
   "version": "3.7.1"
  },
  "latex_envs": {
   "LaTeX_envs_menu_present": true,
   "autoclose": false,
   "autocomplete": true,
   "bibliofile": "biblio.bib",
   "cite_by": "apalike",
   "current_citInitial": 1,
   "eqLabelWithNumbers": true,
   "eqNumInitial": 1,
   "hotkeys": {
    "equation": "Ctrl-E",
    "itemize": "Ctrl-I"
   },
   "labels_anchors": false,
   "latex_user_defs": false,
   "report_style_numbering": false,
   "user_envs_cfg": false
  }
 },
 "nbformat": 4,
 "nbformat_minor": 4
}
